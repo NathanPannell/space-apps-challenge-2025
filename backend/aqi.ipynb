{
 "cells": [
  {
   "cell_type": "code",
   "execution_count": null,
   "id": "initial_id",
   "metadata": {
    "collapsed": true
   },
   "outputs": [],
   "source": [
    "from datetime import datetime, timedelta\n",
    "import requests\n",
    "import pandas as pd\n",
    "import numpy as np\n",
    "from AQIPython import calculate_aqi\n",
    "import matplotlib.pyplot as plt\n",
    "from AQIPython.errorCustom import UnknownPollutantError\n",
    "\n",
    "API_KEY = \"b42364ba91a35ec7deae635342440c4d17810cbb822131f21da926e57e9b60b4\"\n",
    "VICTORIA_COORDINATES = (48.441942, -123.363165)\n",
    "\n",
    "UNITS_MAP = {\n",
    "    \"µg/m³\": \"ug/m3\",\n",
    "    \"mg/m³\": \"mg/m3\",\n",
    "    \"ppm\": \"ppm\"\n",
    "}"
   ]
  },
  {
   "metadata": {},
   "cell_type": "code",
   "outputs": [],
   "execution_count": null,
   "source": [
    "\n",
    "\n",
    "def get_locations(latitude, longitude, radius):\n",
    "    response = requests.get(\n",
    "        \"https://api.openaq.org/v3/locations\",\n",
    "        {\n",
    "            \"coordinates\": f\"{latitude},{longitude}\",\n",
    "            \"radius\": radius,\n",
    "            \"limit\": 1000\n",
    "        },\n",
    "        headers={\"x-api-key\": API_KEY}\n",
    "    )\n",
    "    return pd.DataFrame(response.json().get(\"results\"))\n",
    "\n",
    "def get_sensors(location_id):\n",
    "    response = requests.get(\n",
    "        f\"https://api.openaq.org/v3/locations/{location_id}/sensors\",\n",
    "        headers={\"x-api-key\": API_KEY}\n",
    "    )\n",
    "    return pd.DataFrame(response.json().get(\"results\"))\n",
    "\n",
    "def get_readings(sensor_id, datetime_from, datetime_to):\n",
    "    response = requests.get(\n",
    "        f\"https://api.openaq.org/v3/sensors/{sensor_id}/measurements/hourly\",\n",
    "        params={\"datetime_from\": datetime_from, \"datetime_to\": datetime_to},\n",
    "        headers={\"x-api-key\": API_KEY}\n",
    "    )\n",
    "    return pd.DataFrame(response.json().get(\"results\"))\n",
    "\n",
    "def get_current_readings(sensor_id):\n",
    "    response = requests.get(\n",
    "        f\"https://api.openaq.org/v3/sensors/{sensor_id}/measurements/hourly\",\n",
    "        params={\"datetime_from\": datetime.now() - timedelta(days=1), \"datetime_to\": datetime.now()},\n",
    "        headers={\"x-api-key\": API_KEY}\n",
    "    )\n",
    "    return pd.DataFrame(response.json().get(\"results\"))"
   ],
   "id": "5903815b3aaff87d"
  },
  {
   "metadata": {},
   "cell_type": "code",
   "outputs": [],
   "execution_count": null,
   "source": [
    "# Start with coordinates\n",
    "# Find the nearest monitor\n",
    "locations = get_locations(VICTORIA_COORDINATES[0], VICTORIA_COORDINATES[1], 10000)\n",
    "monitors = locations[locations[\"isMonitor\"]]\n",
    "nearest_monitor = monitors[monitors['distance'] == monitors['distance'].min()]\n",
    "nearest_monitor_id = nearest_monitor.iloc[0].id\n",
    "\n",
    "# Get a sensor from that monitor\n",
    "sensors = get_sensors(nearest_monitor_id)"
   ],
   "id": "82a6e5e54c18ea15"
  },
  {
   "metadata": {},
   "cell_type": "code",
   "outputs": [],
   "execution_count": null,
   "source": [
    "aqis = []\n",
    "for index, sensor in sensors.iterrows():\n",
    "    sensor_id = sensor.id\n",
    "    parameter = sensor.parameter.get('name').upper()\n",
    "    units = UNITS_MAP.get(sensor.parameter.get(\"units\"))\n",
    "    print(f'Id: {sensor_id}, Parameter: {parameter}, Units: {units}')\n",
    "\n",
    "    readings = get_current_readings(sensor_id)\n",
    "\n",
    "    if len(readings) > 0:\n",
    "        mean_reading = np.mean(readings.get(\"value\"))\n",
    "        try:\n",
    "            aqi = calculate_aqi(\"IN\", parameter, mean_reading, units)\n",
    "            aqis.append(aqi)\n",
    "            print(f'Mean reading: {mean_reading}, AQI: {aqi}')\n",
    "        except UnknownPollutantError:\n",
    "            print(f\"Unknown pollutant '{parameter}'.\")\n",
    "\n",
    "    else:\n",
    "        print(f'No readings found.')\n",
    "\n",
    "print(f\"Composite AQI = {np.max(aqis)}\")"
   ],
   "id": "3b825f81e369c617"
  }
 ],
 "metadata": {
  "kernelspec": {
   "display_name": "Python 3",
   "language": "python",
   "name": "python3"
  },
  "language_info": {
   "codemirror_mode": {
    "name": "ipython",
    "version": 2
   },
   "file_extension": ".py",
   "mimetype": "text/x-python",
   "name": "python",
   "nbconvert_exporter": "python",
   "pygments_lexer": "ipython2",
   "version": "2.7.6"
  }
 },
 "nbformat": 4,
 "nbformat_minor": 5
}
